{
 "cells": [
  {
   "cell_type": "markdown",
   "metadata": {},
   "source": [
    "# 遗传算法python示例——背包问题\n",
    "\n",
    "**问题描述**\n",
    "\n",
    "现有一个背包，其容量上限为10，有4个物品可以放进该背包中，每个物品有不同的价值，求在背包容量范围内如何放置物品使得总价值最高。\n",
    "\n",
    "物品价值：values= [10, 40, 30, 50]\n",
    "\n",
    "物品重量：wt = [5, 4, 6, 3]"
   ]
  },
  {
   "cell_type": "markdown",
   "metadata": {},
   "source": [
    "* 遗传算法基本流程：\n",
    "\n",
    "![遗传算法基本流程](https://tva1.sinaimg.cn/large/007S8ZIlly1ghemckuex2j30jo0f8jry.jpg)"
   ]
  },
  {
   "cell_type": "code",
   "execution_count": 1,
   "metadata": {},
   "outputs": [],
   "source": [
    "import numpy as np\n",
    "import pandas as pd\n",
    "import random\n",
    "import itertools\n",
    "import time"
   ]
  },
  {
   "cell_type": "markdown",
   "metadata": {},
   "source": [
    "## 个体/染色体/基因\n",
    "\n",
    "* 遗传算法中，个体即为解，染色体即为解的形式，基因则为解的组成部分。\n",
    "* 在自然界中，1个个体内包含多条染色体，但在算法中，一般1个个体对应1个染色体，所以个体/染色体在算法中可理解为一个概念，即问题的解。\n",
    "* 在本例中，共有4个物品，每个物品放入即为1，不放入即为1（共4个基因，每个基因为0/1，代表对应物体是否放置进背包）。解（个体/染色体）即为4位的二进制列。"
   ]
  },
  {
   "cell_type": "code",
   "execution_count": 2,
   "metadata": {},
   "outputs": [],
   "source": [
    "class Individual(object):\n",
    "    def __init__(self,evaluator,fixed_chromosome=[]):\n",
    "        self.evaluator = evaluator\n",
    "        self.gene_num = evaluator.gene_num # 基因数量\n",
    "        self.chromosome = self.get_chromosome(fixed_chromosome)  # 染色体       \n",
    "        \n",
    "    def get_chromosome(self,fixed_chromosome=[]):\n",
    "        if fixed_chromosome:\n",
    "            chromosome = np.array(fixed_chromosome)\n",
    "        else:\n",
    "            chromosome = self.encode_chromosome()\n",
    "        while self.evaluator.if_valid_chromosome(chromosome):  # 判断染色体是否合法\n",
    "            chromosome = np.random.randint(0,2,self.gene_num)\n",
    "        return chromosome\n",
    "\n",
    "    def encode_chromosome(self):\n",
    "        return np.random.randint(0,2,self.gene_num)"
   ]
  },
  {
   "cell_type": "code",
   "execution_count": 17,
   "metadata": {},
   "outputs": [],
   "source": [
    "class Evaluator(object):\n",
    "    def __init__(self,gene_num,values,weights, weight_MAX):  \n",
    "        self.gene_num = gene_num  # 染色体中基因的数量，在本问题中即为物品的个数\n",
    "        self.values = values  # 各物品对应的价值\n",
    "        self.weights = weights  # 各物体所占的容量\n",
    "        self.weight_MAX = weight_MAX  # 背包的容量上限\n",
    "    \n",
    "    def get_fitness_value(self, individual):\n",
    "        individual.fitness_value = sum(individual.chromosome*self.values)\n",
    "        return individual.fitness_value\n",
    "    \n",
    "    def if_valid_chromosome(self,chromosome):\n",
    "        return sum(chromosome*self.weights) > self.weight_MAX"
   ]
  },
  {
   "cell_type": "markdown",
   "metadata": {},
   "source": [
    "## 种群"
   ]
  },
  {
   "cell_type": "code",
   "execution_count": 28,
   "metadata": {},
   "outputs": [],
   "source": [
    "class Population(object):\n",
    "    def __init__(self, population_size, evaluator, fixed_chromosome=[]):\n",
    "        self.population_size = population_size  # 种群中个体数量\n",
    "        self.evaluator = evaluator  # 评价类\n",
    "        self.individuals = []  # 种群内的个体集合\n",
    "        for n in range(population_size):\n",
    "            self.individuals.append(Individual(self.evaluator,fixed_chromosome=[]))\n",
    "            \n",
    "        self.best_individual_list = []  # 记录每一代中最好的个体\n",
    "        self.best_individual_dict = {}  # 记录每一代中最好的个体及其适应度\n",
    "        \n",
    "    def evolve(self,offspring):\n",
    "        fv_now_gen = []  # 当前代的种群中个体的适应度列表\n",
    "        for individual in self.individuals:\n",
    "            fv_now_gen.append(self.evaluator.get_fitness_value(individual))\n",
    "        \n",
    "        best_index = fv_now_gen.index(max(fv_now_gen))\n",
    "        self.best_individual_list.append(self.individuals[best_index])  # 记录当前代中的最优个体\n",
    "        self.best_individual_dict[self.individuals[best_index]] = max(fv_now_gen)  # 记录当前代中最优个体及其适应度\n",
    "\n",
    "        # 加入子代进行淘汰，维持种群内个体个数\n",
    "        fv_offspring=[]  # 子代的种群中个体的适应度列表\n",
    "        for individual in offspring:\n",
    "            fv_offspring.append(self.evaluator.get_fitness_value(individual))\n",
    "        \n",
    "        # 本例中种群内个体个数为100，则对适应度进行排序后，查找第100个适应度的值作为分界值，\n",
    "        # 筛选适应度大于等于分界线的个体\n",
    "        fv_all = fv_now_gen+fv_offspring  # 父代+子代的适应度列表\n",
    "        fv_all.sort(reverse=True)\n",
    "        cut_value = fv_all[self.population_size-1]  # 查找分界值\n",
    "        \n",
    "        new_population = []\n",
    "        for individual in self.individuals:\n",
    "            if self.evaluator.get_fitness_value(individual) >= cut_value:\n",
    "                new_population.append(individual)\n",
    "        for individual in offspring:\n",
    "            if self.evaluator.get_fitness_value(individual) >= cut_value:\n",
    "                new_population.append(individual)\n",
    "                \n",
    "        self.individuals = new_population  # 更新种群内的个体，进入下一代\n"
   ]
  },
  {
   "cell_type": "code",
   "execution_count": 29,
   "metadata": {},
   "outputs": [],
   "source": [
    "class SelectionOperator(object):\n",
    "    def __init__(self,population,parent_size):\n",
    "        self.population = population  # 种群\n",
    "        self.parent_size = parent_size  # 进入繁殖的父代个体数\n",
    "        \n",
    "    def roulette_wheel(self):  # 轮盘赌算法\n",
    "        fitness_value_list=[]\n",
    "        for individual in self.population.individuals:\n",
    "            fitness_value_list.append(self.population.evaluator.get_fitness_value(individual))\n",
    "        \n",
    "        # 计算累计概率\n",
    "        cumulate_p_list = []\n",
    "        pre_p = 0\n",
    "        for fitness_value in fitness_value_list:\n",
    "            p=float(fitness_value/sum(fitness_value_list))\n",
    "            cumulate_p_list.append(p+pre_p)\n",
    "            pre_p = p+pre_p\n",
    "        \n",
    "        # 轮盘赌算法，适应度越大的个体越容易被选做可以繁殖的父代\n",
    "        self.parents = []\n",
    "        for n in range(self.parent_size):\n",
    "            r = random.uniform(0,1)\n",
    "            parents_pair=[]\n",
    "            #print(n,'*'*10)\n",
    "            for parent_num in range(2):  # 2个父代产生1个子代\n",
    "                for i in range(len(cumulate_p_list)):\n",
    "                    if i == 0:\n",
    "                        if r <= cumulate_p_list[i]:\n",
    "                            parents_pair.append(self.population.individuals[i])\n",
    "                    else:\n",
    "                        if r <= cumulate_p_list[i] and r > cumulate_p_list[i-1]:\n",
    "                            parents_pair.append(self.population.individuals[i])\n",
    "            self.parents.append(tuple(parents_pair))\n",
    "\n",
    "        return self.parents\n",
    "        "
   ]
  },
  {
   "cell_type": "code",
   "execution_count": 30,
   "metadata": {},
   "outputs": [],
   "source": [
    "class VariationOperator(object):\n",
    "    def __init__(self,evaluator,parents,p_point_mutation):\n",
    "        self.evaluator = evaluator  # 评价类\n",
    "        self.parents = parents  # 父代\n",
    "        self.p_point_mutation = p_point_mutation  # 点突变概率\n",
    "        self.offspring= []\n",
    "        \n",
    "    def get_offspring(self):\n",
    "        self.crossover()  # 父代染色体交叉产生子代染色体\n",
    "        self.point_mutation()  # 点突变\n",
    "        return self.offspring\n",
    "    \n",
    "    def crossover(self):\n",
    "        for pair in parents:\n",
    "            cross_point = random.randint(0, evaluator.gene_num-1)  # 随机选取交叉点\n",
    "            a_offspring_chromosome = []\n",
    "            a_offspring_chromosome.extend(pair[0].chromosome[:cross_point])\n",
    "            a_offspring_chromosome.extend(pair[1].chromosome[cross_point:])\n",
    "            \n",
    "            # 判断染色体是否合法\n",
    "            if not self.evaluator.if_valid_chromosome(np.array(a_offspring_chromosome)):\n",
    "                individual = Individual(self.evaluator,fixed_chromosome=a_offspring_chromosome)\n",
    "                self.offspring.append(individual)\n",
    "    \n",
    "    def point_mutation(self):\n",
    "        for i in range(len(self.offspring)):\n",
    "            tmp = random.uniform(0,1)  \n",
    "            if tmp < p_point_mutation:  # 突变概率\n",
    "                mutation = random.randint(0, evaluator.gene_num-1)  # 随机选取突变点\n",
    "                self.offspring[i].chromosome[mutation] = bool(1-self.offspring[i].chromosome[mutation])  # 点突变\n",
    "                \n",
    "                "
   ]
  },
  {
   "cell_type": "code",
   "execution_count": 31,
   "metadata": {},
   "outputs": [
    {
     "name": "stdout",
     "output_type": "stream",
     "text": [
      "Time used:  2.2092950344085693 s\n",
      "best chromosome:  [1 1 0 1 1 1 1 1 0 1 1 0 1 0 0 1 0 0 0 0 1 0 1 1 1 1 1 0 1 0 1 1 1 0 1 0 1\n",
      " 1 0 1 0 0 1 0 0 0 0 0 1 0]\n",
      "best fitness value:  3018\n"
     ]
    }
   ],
   "source": [
    "# 常数定义\n",
    "weight_MAX = 1000  # 背包的最大容量\n",
    "weights = [80,82,85,70,72,70,66,50,55,25,50,55,40,48,50,32,22,60,30,32,40,38,35,32,25,28,30,22,25,30,45,30,60,50,20,65,20,25,30,10,20,25,15,10,10,10,4,4,2,1]  # 物品所占容量\n",
    "values= [220,208,198,192,180,180,165,162,160,158,155,130,125,122,120,118,115,110,105,101,100,100,98,96,95,90,88,82,80,77,75,73,72,70,69,66,65,63,60,58,56,50,30,20,15,10,8,5,3,1]  # 物品价值\n",
    "gene_num=50  # 染色体内基因的个数，在本例中即为物品个数\n",
    "p_point_mutation = 0.3  # 突变频率\n",
    "iter_times = 100  # 种群迭代次数\n",
    "population_size = 100  # 种群内包含多少个个体\n",
    "offspring_size = 30  # 每次产生多少后代\n",
    "\n",
    "start = time.time()\n",
    "# 初始化\n",
    "evaluator = Evaluator(gene_num,values,weights,weight_MAX)  # 评价类\n",
    "population = Population(population_size,evaluator)  # 种群\n",
    "\n",
    "for i in range(iter_times):\n",
    "    selector_operator = SelectionOperator(population,offspring_size)  # 选择算子\n",
    "    parents = selector_operator.roulette_wheel()  # 使用轮盘赌算法选择父代\n",
    "\n",
    "    variation_operator = VariationOperator(evaluator,parents,p_point_mutation)  # 变异算子（交叉、突变）\n",
    "    offspring = variation_operator.get_offspring()  # 经交叉和突变后获得子代\n",
    "    \n",
    "    population.evolve(offspring)  # 子代加入种群，种群内进行淘汰，维持原始个体数\n",
    "\n",
    "# 结果展示\n",
    "best_individual = max(population.best_individual_dict, key=population.best_individual_dict.get)\n",
    "print('Time used: ', time.time()-start, 's')\n",
    "print('best chromosome: ',best_individual.chromosome)\n",
    "print('best fitness value: ',best_individual.fitness_value)"
   ]
  },
  {
   "cell_type": "code",
   "execution_count": 32,
   "metadata": {},
   "outputs": [
    {
     "data": {
      "text/plain": [
       "{<__main__.Individual at 0x1161d2470>: 2807,\n",
       " <__main__.Individual at 0x1161f04a8>: 2841,\n",
       " <__main__.Individual at 0x1161d22e8>: 2889,\n",
       " <__main__.Individual at 0x1161d2d68>: 2953,\n",
       " <__main__.Individual at 0x1161e5438>: 3005,\n",
       " <__main__.Individual at 0x1161e5a20>: 3016,\n",
       " <__main__.Individual at 0x1161f07b8>: 3018}"
      ]
     },
     "execution_count": 32,
     "metadata": {},
     "output_type": "execute_result"
    }
   ],
   "source": [
    "population.best_individual_dict"
   ]
  },
  {
   "cell_type": "code",
   "execution_count": null,
   "metadata": {},
   "outputs": [],
   "source": []
  }
 ],
 "metadata": {
  "kernelspec": {
   "display_name": "venv",
   "language": "python",
   "name": "venv"
  },
  "language_info": {
   "codemirror_mode": {
    "name": "ipython",
    "version": 3
   },
   "file_extension": ".py",
   "mimetype": "text/x-python",
   "name": "python",
   "nbconvert_exporter": "python",
   "pygments_lexer": "ipython3",
   "version": "3.6.3"
  }
 },
 "nbformat": 4,
 "nbformat_minor": 4
}
